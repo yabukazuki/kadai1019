{
  "nbformat": 4,
  "nbformat_minor": 0,
  "metadata": {
    "colab": {
      "name": "JikkenII20211019_01.ipynb のコピー",
      "provenance": [],
      "collapsed_sections": []
    },
    "kernelspec": {
      "name": "python3",
      "display_name": "Python 3"
    },
    "language_info": {
      "name": "python"
    }
  },
  "cells": [
    {
      "cell_type": "markdown",
      "metadata": {
        "id": "y9XmF6ZJQ7F8"
      },
      "source": [
        "# 実験 II 演習\n",
        "\n",
        "言語処理 100 本ノックの「第 1 章: 準備運動」で言語処理の\n",
        "基本的な前処理手法に慣れる．"
      ]
    },
    {
      "cell_type": "markdown",
      "metadata": {
        "id": "FvsjIAKrQ9UD"
      },
      "source": [
        "# 00. 文字列の逆順\n",
        "文字列”stressed”の文字を逆に（末尾から先頭に向かって）並べた文字列を得よ．"
      ]
    },
    {
      "cell_type": "code",
      "metadata": {
        "id": "CY6U7NUEQ3-x",
        "colab": {
          "base_uri": "https://localhost:8080/"
        },
        "outputId": "b4593576-4efc-496c-e6f0-b58664e6f172"
      },
      "source": [
        "print(\"stressed\"[::-1])"
      ],
      "execution_count": 1,
      "outputs": [
        {
          "output_type": "stream",
          "name": "stdout",
          "text": [
            "desserts\n"
          ]
        }
      ]
    },
    {
      "cell_type": "markdown",
      "metadata": {
        "id": "Iguu8pAeU4_6"
      },
      "source": [
        "# 01. 「パタトクカシーー」\n",
        "「パタトクカシーー」という文字列の1,3,5,7文字目を取り出して連結した文字列を得よ．"
      ]
    },
    {
      "cell_type": "code",
      "metadata": {
        "id": "ATQaS1bCXl6V",
        "colab": {
          "base_uri": "https://localhost:8080/"
        },
        "outputId": "4c35881f-cff7-47ac-b734-f3f661b766f2"
      },
      "source": [
        "a=\"パタトクカシーー\"\n",
        "print(a[0::2])"
      ],
      "execution_count": 2,
      "outputs": [
        {
          "output_type": "stream",
          "name": "stdout",
          "text": [
            "パトカー\n"
          ]
        }
      ]
    },
    {
      "cell_type": "markdown",
      "metadata": {
        "id": "rZt4YUDgU6jl"
      },
      "source": [
        "# 02. 「パトカー」＋「タクシー」＝「パタトクカシーー」\n",
        "「パトカー」＋「タクシー」の文字を先頭から交互に連結して文字列「パタトクカシーー」を得よ．"
      ]
    },
    {
      "cell_type": "code",
      "metadata": {
        "id": "yOzUgVdaXme7",
        "colab": {
          "base_uri": "https://localhost:8080/"
        },
        "outputId": "301d131f-53a4-4dbd-8f8e-991ee8c5df67"
      },
      "source": [
        "a=\"パトカー\"\n",
        "b=\"タクシー\"\n",
        "c=\"\"\n",
        "for i in range(len(a)):\n",
        "  c+=a[i]+b[i]\n",
        "print(c)"
      ],
      "execution_count": 3,
      "outputs": [
        {
          "output_type": "stream",
          "name": "stdout",
          "text": [
            "パタトクカシーー\n"
          ]
        }
      ]
    },
    {
      "cell_type": "markdown",
      "metadata": {
        "id": "AgaNkAo0U6nW"
      },
      "source": [
        "# 03. 円周率\n",
        "“Now I need a drink, alcoholic of course, after the heavy lectures involving quantum mechanics.”という文を単語に分解し，各単語の（アルファベットの）文字数を先頭から出現順に並べたリストを作成せよ．"
      ]
    },
    {
      "cell_type": "code",
      "metadata": {
        "id": "ny1tde0FXnKB",
        "colab": {
          "base_uri": "https://localhost:8080/"
        },
        "outputId": "ae7e6be8-61ee-4844-d4e8-cba76ba28e4f"
      },
      "source": [
        "sentence=\"Now I need a drink, alcoholic of course, after the heavy lectures involving quantum mechanics.\"\n",
        "a=sentence[0:-1].split( \" \" or \".\")\n",
        "print(a)\n",
        "l=[]\n",
        "for i in range(len(a)):\n",
        "  l.append(len(a[i]))\n",
        "print(l)"
      ],
      "execution_count": 4,
      "outputs": [
        {
          "output_type": "stream",
          "name": "stdout",
          "text": [
            "['Now', 'I', 'need', 'a', 'drink,', 'alcoholic', 'of', 'course,', 'after', 'the', 'heavy', 'lectures', 'involving', 'quantum', 'mechanics']\n",
            "[3, 1, 4, 1, 6, 9, 2, 7, 5, 3, 5, 8, 9, 7, 9]\n"
          ]
        }
      ]
    },
    {
      "cell_type": "markdown",
      "metadata": {
        "id": "cquzeSfXU6qm"
      },
      "source": [
        "# 04. 元素記号\n",
        "“Hi He Lied Because Boron Could Not Oxidize Fluorine. New Nations Might Also Sign Peace Security Clause. Arthur King Can.”という文を単語に分解し，1, 5, 6, 7, 8, 9, 15, 16, 19番目の単語は先頭の1文字，それ以外の単語は先頭の2文字を取り出し，取り出した文字列から単語の位置（先頭から何番目の単語か）への連想配列（辞書型もしくはマップ型）を作成せよ．"
      ]
    },
    {
      "cell_type": "code",
      "metadata": {
        "id": "Z7HL52CtXn0E",
        "colab": {
          "base_uri": "https://localhost:8080/"
        },
        "outputId": "51cdab41-a21f-4fc8-df71-c632abdb708e"
      },
      "source": [
        "str=\"Hi He Lied Because Boron Could Not Oxidize Fluorine. New Nations Might Also Sign Peace Security Clause. Arthur King Can.\"\n",
        "str_s=str.split(\" \")\n",
        "\n",
        "dict={}\n",
        "\n",
        "for i in range(len(str_s)):\n",
        "  if i+1 in [1, 5, 6, 7, 8, 9, 15, 16, 19]:\n",
        "    #print(str_s[i][0])\n",
        "    dict[str_s[i][0]]=i+1\n",
        "  else:\n",
        "    #print(str_s[i][0:2])\n",
        "    dict[str_s[i][0:2]]=i+1\n",
        "print(dict)\n"
      ],
      "execution_count": 5,
      "outputs": [
        {
          "output_type": "stream",
          "name": "stdout",
          "text": [
            "{'H': 1, 'He': 2, 'Li': 3, 'Be': 4, 'B': 5, 'C': 6, 'N': 7, 'O': 8, 'F': 9, 'Ne': 10, 'Na': 11, 'Mi': 12, 'Al': 13, 'Si': 14, 'P': 15, 'S': 16, 'Cl': 17, 'Ar': 18, 'K': 19, 'Ca': 20}\n"
          ]
        }
      ]
    },
    {
      "cell_type": "markdown",
      "metadata": {
        "id": "phD3-CphU6uK"
      },
      "source": [
        "# 05. n-gram\n",
        "与えられたシーケンス（文字列やリストなど）からn-gramを作る関数を作成せよ．この関数を用い，”I am an NLPer”という文から単語bi-gram，文字bi-gramを得よ．\n",
        "\n",
        "\n",
        "n-gram とは n 個のデータの連接である．  \n",
        "1-gram, 2-gram, 3-gram, ..., n-gram となる．\n",
        "一般に 1-gram, 2-gram, 3-gram をそれぞれ uni-gram, bi-gram, tri-gram と書く．  \n",
        "それぞれ「ユニグラム」，「バイグラム」，「トライグラム」と読む．  \n",
        "単語 n-gram は単語を単位とした連接，文字 n-gram は文字を単位とした連接である．  \n",
        "\"I saw a girl with a telescope.\" という文があったとしたら，  \n",
        "単語 uni-gram は \"I\", \"saw\", \"a\",...,\"telescope.\"，  \n",
        "文字 uni-gram は \"I\", \" \", \"s\", \"a\", \"w\",...,\".\"，  \n",
        "単語 bi-gram は \"I saw\", \"saw a\", \"a girl\",..., \"a telescope.\"，  \n",
        "文字 bi-gram は \"I \", \" s\", \"sa\", \"aw\", \"w \", \" a\",...,\"e.\"  \n",
        "となる．"
      ]
    },
    {
      "cell_type": "code",
      "metadata": {
        "id": "DiRBqyXkXoXb",
        "colab": {
          "base_uri": "https://localhost:8080/"
        },
        "outputId": "c30c61b3-1ef5-4f5a-bf3c-f14c13e93a3b"
      },
      "source": [
        "str=\"I saw a girl with a telescope.\"\n",
        "\n",
        "def n_gram(a,n,choice):\n",
        "  #文字\n",
        "  if choice==0:\n",
        "    result=[a[idx:idx+n] for idx in range(len(a)-n+1)]\n",
        "  else:\n",
        "  #単語\n",
        "    words=a.split(\" \")\n",
        "    result=[words[idx:idx+n] for idx in range(len(words)-n+1)]\n",
        "  return result\n",
        "\n",
        "for i in range(1,4):\n",
        "  print(i,\"-gram\")\n",
        "  for j in range(0,2):\n",
        "    if j==0:\n",
        "      print(\"文字\")\n",
        "    else:\n",
        "      print(\"単語\")\n",
        "    print(n_gram(str,i,j))\n",
        "  print()\n"
      ],
      "execution_count": 6,
      "outputs": [
        {
          "output_type": "stream",
          "name": "stdout",
          "text": [
            "1 -gram\n",
            "文字\n",
            "['I', ' ', 's', 'a', 'w', ' ', 'a', ' ', 'g', 'i', 'r', 'l', ' ', 'w', 'i', 't', 'h', ' ', 'a', ' ', 't', 'e', 'l', 'e', 's', 'c', 'o', 'p', 'e', '.']\n",
            "単語\n",
            "[['I'], ['saw'], ['a'], ['girl'], ['with'], ['a'], ['telescope.']]\n",
            "\n",
            "2 -gram\n",
            "文字\n",
            "['I ', ' s', 'sa', 'aw', 'w ', ' a', 'a ', ' g', 'gi', 'ir', 'rl', 'l ', ' w', 'wi', 'it', 'th', 'h ', ' a', 'a ', ' t', 'te', 'el', 'le', 'es', 'sc', 'co', 'op', 'pe', 'e.']\n",
            "単語\n",
            "[['I', 'saw'], ['saw', 'a'], ['a', 'girl'], ['girl', 'with'], ['with', 'a'], ['a', 'telescope.']]\n",
            "\n",
            "3 -gram\n",
            "文字\n",
            "['I s', ' sa', 'saw', 'aw ', 'w a', ' a ', 'a g', ' gi', 'gir', 'irl', 'rl ', 'l w', ' wi', 'wit', 'ith', 'th ', 'h a', ' a ', 'a t', ' te', 'tel', 'ele', 'les', 'esc', 'sco', 'cop', 'ope', 'pe.']\n",
            "単語\n",
            "[['I', 'saw', 'a'], ['saw', 'a', 'girl'], ['a', 'girl', 'with'], ['girl', 'with', 'a'], ['with', 'a', 'telescope.']]\n",
            "\n"
          ]
        }
      ]
    },
    {
      "cell_type": "markdown",
      "metadata": {
        "id": "YDfI939SU6xc"
      },
      "source": [
        "# 06. 集合\n",
        "“paraparaparadise”と”paragraph”に含まれる文字bi-gramの集合を，それぞれ, XとYとして求め，XとYの和集合，積集合，差集合を求めよ．さらに，’se’というbi-gramがXおよびYに含まれるかどうかを調べよ．\n"
      ]
    },
    {
      "cell_type": "code",
      "metadata": {
        "id": "HoiaqlAxXo4i",
        "colab": {
          "base_uri": "https://localhost:8080/"
        },
        "outputId": "625c303c-2802-4f0c-f84a-8e78add6d9d1"
      },
      "source": [
        "X=n_gram(\"paraparaparadise\",2,0)\n",
        "print(\"bi-gram(X)=\",X)\n",
        "Y=n_gram(\"paragraph\",2,0)\n",
        "print(\"bi-gram(Y)=\",Y)\n",
        "\n",
        "print(\"和集合\",set(X).union(set(Y)))\n",
        "print(\"積集合\",set(X) & set(Y))\n",
        "print(\"差集合\",set(X).difference(set(Y)))"
      ],
      "execution_count": 7,
      "outputs": [
        {
          "output_type": "stream",
          "name": "stdout",
          "text": [
            "bi-gram(X)= ['pa', 'ar', 'ra', 'ap', 'pa', 'ar', 'ra', 'ap', 'pa', 'ar', 'ra', 'ad', 'di', 'is', 'se']\n",
            "bi-gram(Y)= ['pa', 'ar', 'ra', 'ag', 'gr', 'ra', 'ap', 'ph']\n",
            "和集合 {'ph', 'se', 'ra', 'ad', 'ar', 'di', 'ag', 'ap', 'pa', 'gr', 'is'}\n",
            "積集合 {'ra', 'ap', 'pa', 'ar'}\n",
            "差集合 {'is', 'di', 'se', 'ad'}\n"
          ]
        }
      ]
    },
    {
      "cell_type": "markdown",
      "metadata": {
        "id": "JYFmhUeJU60l"
      },
      "source": [
        "# 07. テンプレートによる文生成\n",
        "引数x, y, zを受け取り「x時のyはz」という文字列を返す関数を実装せよ．さらに，x=12, y=”気温”, z=22.4として，実行結果を確認せよ．"
      ]
    },
    {
      "cell_type": "code",
      "metadata": {
        "id": "be6nsZPGXpZt",
        "colab": {
          "base_uri": "https://localhost:8080/"
        },
        "outputId": "b8cc59b0-3cd1-4439-b314-e4b68244cb42"
      },
      "source": [
        "def solve(x,y,z):\n",
        " return (\"{0}時の{1}は{2}\".format(x,y,z))\n",
        "\n",
        "print(solve(12,\"気温\",22.4))"
      ],
      "execution_count": 8,
      "outputs": [
        {
          "output_type": "stream",
          "name": "stdout",
          "text": [
            "12時の気温は22.4\n"
          ]
        }
      ]
    },
    {
      "cell_type": "markdown",
      "metadata": {
        "id": "3QxMgUbHU63n"
      },
      "source": [
        "# 08. 暗号文\n",
        "与えられた文字列の各文字を，以下の仕様で変換する関数cipherを実装せよ．\n",
        "\n",
        "英小文字ならば(219 - 文字コード)の文字に置換\n",
        "その他の文字はそのまま出力\n",
        "この関数を用い，英語のメッセージを暗号化・復号化せよ．"
      ]
    },
    {
      "cell_type": "code",
      "metadata": {
        "id": "v6W4xEXZXpxp",
        "colab": {
          "base_uri": "https://localhost:8080/"
        },
        "outputId": "e22caaca-bf8b-402f-e774-16b20720f175"
      },
      "source": [
        "\n",
        "str=\"abAB\"\n",
        "\n",
        "def cipher(str):\n",
        "  str_c=\"\"\n",
        "  for i in range(len(str)):\n",
        "    code=ord(str[i])\n",
        "    #print(code)\n",
        "    if ord(\"a\")<=code and code<=ord(\"z\"):\n",
        "      #print(219-code)\n",
        "      str_c+=chr(219-code)\n",
        "    else:\n",
        "      str_c+=chr(code)\n",
        "  \n",
        "  return str_c\n",
        "\n",
        "print(cipher(str))"
      ],
      "execution_count": 9,
      "outputs": [
        {
          "output_type": "stream",
          "name": "stdout",
          "text": [
            "zyAB\n"
          ]
        }
      ]
    },
    {
      "cell_type": "markdown",
      "metadata": {
        "id": "Qx9iNoBjU66i"
      },
      "source": [
        "# 09. Typoglycemia\n",
        "スペースで区切られた単語列に対して，各単語の先頭と末尾の文字は残し，それ以外の文字の順序をランダムに並び替えるプログラムを作成せよ．ただし，長さが４以下の単語は並び替えないこととする．適当な英語の文（例えば”I couldn’t believe that I could actually understand what I was reading : the phenomenal power of the human mind .”）を与え，その実行結果を確認せよ．"
      ]
    },
    {
      "cell_type": "code",
      "metadata": {
        "id": "uLfZb3RRXqTJ",
        "colab": {
          "base_uri": "https://localhost:8080/"
        },
        "outputId": "ee9c799d-402b-4046-ff0f-757969fdf82e"
      },
      "source": [
        "import random\n",
        "def solve09(str):\n",
        "  b=str.split(' ')\n",
        "  c=\"\"\n",
        "  for i in range(len(b)):\n",
        "    if len(b[i])>4:\n",
        "      sr = ''.join(random.sample(b[i][1:-1], len(b[i])-2))\n",
        "      print(sr)\n",
        "      c+=b[i][0]+sr+b[i][-1]+\" \"\n",
        "    else:\n",
        "      c+=b[i]+\" \"\n",
        "  print(c)\n",
        "\n",
        "str=\"I couldn't believe that I could actually understand what I was reading : the phenomenal power of the human mind .\"\n",
        "solve09(str)"
      ],
      "execution_count": 10,
      "outputs": [
        {
          "output_type": "stream",
          "name": "stdout",
          "text": [
            "lnud'o\n",
            "leeiv\n",
            "ulo\n",
            "tcllau\n",
            "trensnad\n",
            "aedni\n",
            "neneaomh\n",
            "eow\n",
            "uam\n",
            "I clnud'ot bleeive that I culod atcllauy utrensnadd what I was raednig : the pneneaomhl peowr of the huamn mind . \n"
          ]
        }
      ]
    },
    {
      "cell_type": "code",
      "metadata": {
        "id": "IMelJdj_RWcG"
      },
      "source": [
        ""
      ],
      "execution_count": 10,
      "outputs": []
    }
  ]
}